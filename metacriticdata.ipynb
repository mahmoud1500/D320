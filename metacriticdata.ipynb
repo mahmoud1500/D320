{
 "cells": [
  {
   "cell_type": "code",
   "execution_count": 22,
   "metadata": {},
   "outputs": [
    {
     "name": "stdout",
     "output_type": "stream",
     "text": [
      "Requirement already satisfied: urllib3 in c:\\users\\sadek\\appdata\\local\\programs\\python\\python312\\lib\\site-packages (2.2.3)\n",
      "Note: you may need to restart the kernel to use updated packages.\n"
     ]
    }
   ],
   "source": [
    "%pip install urllib3"
   ]
  },
  {
   "cell_type": "code",
   "execution_count": 23,
   "metadata": {},
   "outputs": [
    {
     "name": "stdout",
     "output_type": "stream",
     "text": [
      "Requirement already satisfied: requests in c:\\users\\sadek\\appdata\\local\\programs\\python\\python312\\lib\\site-packages (2.32.3)\n",
      "Requirement already satisfied: charset-normalizer<4,>=2 in c:\\users\\sadek\\appdata\\local\\programs\\python\\python312\\lib\\site-packages (from requests) (3.3.2)\n",
      "Requirement already satisfied: idna<4,>=2.5 in c:\\users\\sadek\\appdata\\local\\programs\\python\\python312\\lib\\site-packages (from requests) (3.10)\n",
      "Requirement already satisfied: urllib3<3,>=1.21.1 in c:\\users\\sadek\\appdata\\local\\programs\\python\\python312\\lib\\site-packages (from requests) (2.2.3)\n",
      "Requirement already satisfied: certifi>=2017.4.17 in c:\\users\\sadek\\appdata\\local\\programs\\python\\python312\\lib\\site-packages (from requests) (2024.8.30)\n",
      "Note: you may need to restart the kernel to use updated packages.\n"
     ]
    }
   ],
   "source": [
    "%pip install requests"
   ]
  },
  {
   "cell_type": "markdown",
   "metadata": {},
   "source": [
    "Connect Jypter with Metactitic"
   ]
  },
  {
   "cell_type": "code",
   "execution_count": 27,
   "metadata": {},
   "outputs": [
    {
     "name": "stdout",
     "output_type": "stream",
     "text": [
      "356584\n"
     ]
    }
   ],
   "source": [
    "import requests\n",
    "# URL of the webpage to fetch\n",
    "url = 'https://www.metacritic.com/browse/movie/all/all/1998/metascore/?page=1'\n",
    "\n",
    "\n",
    "# Send a GET request to the URL with headers\n",
    "response = requests.get(url, headers=headers)\n",
    "\n",
    "# Check if the request was successful\n",
    "if response.status_code == 200:\n",
    "    # Print the content of the response\n",
    "    print(len(response.text))\n",
    "else:\n",
    "    print(f\"Failed to fetch the webpage. Status code: {response.status_code}\")"
   ]
  },
  {
   "cell_type": "code",
   "execution_count": 5,
   "metadata": {},
   "outputs": [
    {
     "name": "stdout",
     "output_type": "stream",
     "text": [
      "Requirement already satisfied: certifi in c:\\users\\sadek\\appdata\\local\\programs\\python\\python312\\lib\\site-packages (2024.8.30)\n",
      "Note: you may need to restart the kernel to use updated packages.\n"
     ]
    }
   ],
   "source": [
    "%pip install certifi"
   ]
  },
  {
   "cell_type": "markdown",
   "metadata": {},
   "source": [
    "Get release date for each movie from Metacritic"
   ]
  },
  {
   "cell_type": "code",
   "execution_count": 18,
   "metadata": {},
   "outputs": [
    {
     "name": "stdout",
     "output_type": "stream",
     "text": [
      "Collecting data for 1998...\n",
      "['Jul 24, 1998', 'Jun 5, 1998', 'Dec 11, 1998', 'Dec 11, 1998', 'Oct 23, 1998', 'Jun 26, 1998', 'Mar 20, 1998', 'Oct 9, 1998', 'Jul 10, 1998', 'Dec 11, 1998', 'Oct 16, 1998', 'Aug 21, 1998', 'Dec 18, 1998', 'Mar 6, 1998', 'Nov 20, 1998', 'Mar 20, 1998', 'Dec 30, 1998', 'Dec 30, 1998', 'Nov 25, 1998', 'Sep 27, 1998', 'Jun 26, 1998', 'Feb 6, 1998', 'May 29, 1998', 'Nov 6, 1998']\n",
      "Fetched 24 matches from https://www.metacritic.com/browse/movie/all/all/1998/metascore/?page=1 (status: 200)\n"
     ]
    }
   ],
   "source": [
    "import certifi\n",
    "import urllib3\n",
    "import re\n",
    "# Construct an HTTP request pool to make multiple page fetches faster\n",
    "http = urllib3.PoolManager(ca_certs=certifi.where())\n",
    "\n",
    "# Loop through the years 1998 - 1999 and gather data from Metacritic.\n",
    "# Note that Python ranges stop *before* the final number.\n",
    "for year in range(1998, 1999):\n",
    "    print(f\"Collecting data for {year}...\")\n",
    "    url = f\"https://www.metacritic.com/browse/movie/all/all/{year}/metascore/?page=1\"\n",
    "    response = http.request('GET', url, headers={'User-Agent': 'Mozilla/5.0'})\n",
    "    page_content = str(response.data, \"utf-8\")\n",
    "\n",
    "    # Apply regular expression to extract relevant data\n",
    "    regular_expression = r'<span class=\"u-text-uppercase\">\\s*     (.*)'\n",
    "   \n",
    "    matches = re.findall(regular_expression, page_content)\n",
    "    print (matches)\n",
    "    # Print the fetched number of matches\n",
    "    print(f\"Fetched {len(matches)} matches from {url} (status: {response.status})\")"
   ]
  },
  {
   "cell_type": "markdown",
   "metadata": {},
   "source": [
    "Get titles for each movie from Metacritic"
   ]
  },
  {
   "cell_type": "code",
   "execution_count": 17,
   "metadata": {},
   "outputs": [
    {
     "name": "stdout",
     "output_type": "stream",
     "text": [
      "Collecting data for 1998...\n",
      "['Saving Private Ryan', 'The Truman Show', 'Shakespeare in Love', 'Rushmore', 'The Last Days', 'Out of Sight', 'Fireworks', 'The Celebration', 'Hands on a Hardbody: The Documentary', 'A Simple Plan', 'Happiness', 'The Eel', 'The General', 'Love and Death on Long Island', 'Central Station', 'Taste of Cherry', 'Affliction', 'Hilary and Jackie', \"A Bug's Life\", 'I Stand Alone', 'Smoke Signals', 'Nil by Mouth', 'The Last Days of Disco', 'Elizabeth']\n",
      "Fetched 24 matches from https://www.metacritic.com/browse/movie/all/all/1998/metascore/?page=1 (status: 200)\n"
     ]
    }
   ],
   "source": [
    "import certifi\n",
    "import urllib3\n",
    "import re\n",
    "# Construct an HTTP request pool to make multiple page fetches faster\n",
    "http = urllib3.PoolManager(ca_certs=certifi.where())\n",
    "\n",
    "# Loop through the years 1998 - 1999 and gather data from Metacritic.\n",
    "# Note that Python ranges stop *before* the final number.\n",
    "for year in range(1998, 1999):\n",
    "    print(f\"Collecting data for {year}...\")\n",
    "    url = f\"https://www.metacritic.com/browse/movie/all/all/{year}/metascore/?page=1\"\n",
    "    response = http.request('GET', url, headers={'User-Agent': 'Mozilla/5.0'})\n",
    "    page_content = str(response.data, \"utf-8\")\n",
    "\n",
    "    # Apply regular expression to extract relevant data\n",
    "    regular_expression = r'<div data-title=\"(.*?)\\\"'\n",
    "\n",
    "   \n",
    "    matches = re.findall(regular_expression, page_content)\n",
    "    print (matches)\n",
    "    # Print the fetched number of matches\n",
    "    print(f\"Fetched {len(matches)} matches from {url} (status: {response.status})\")\n"
   ]
  },
  {
   "cell_type": "markdown",
   "metadata": {},
   "source": [
    "Get description for each movie from Metacritic"
   ]
  },
  {
   "cell_type": "code",
   "execution_count": 16,
   "metadata": {},
   "outputs": [
    {
     "name": "stdout",
     "output_type": "stream",
     "text": [
      "Collecting data for 1998...\n",
      "['During the WWII D-Day invasion, a squad of soldiers led by Captain John Miller (Tom Hanks) is sent into Normandy to find Private James Ryan (Matt Damon), and return him to his mother in America.  She has already lost three other sons in this war.', 'Twenty-nine years ago, a baby boy was adopted by the OmniCam Corporation to become the subject of the most popular television show of all time. His name is Truman Burbank.  (Paramount Pictures)', 'Shakespeare in Love is a romantic comedy for the 1990s set in the 1590s. It imaginatively unfolds the witty, sexy and timeless tale behind the creation of the greatest love story ever told.  (Miramax Films)', 'Max Fischer, a tenth grade scholarship student at Rushmore Academy, falls in love with Rosemary Cross, a widowed elementary school teacher, but his friendship with Herman Blume, an unhappy, wealthy industrialist, suffers when Blume falls for Miss Cross as well.', \"In late 1944, even as they faced imminent defeat, the Nazis expended enormous resources to kill or deport over 425,000 Jews during the &quot;cleansing&quot; of Hungary. This Oscar-winning documentary, executive produced by Steven Spielberg, focuses on the plight of five Hungarian Jews who survived imprisonment in Auschwitz. Though these survivors recount the horrors they witnessed and endured as a result of the Nazis' &quot;Final Solution,&quot; their individual triumphs are a testament to hope and humanity.\", 'Based on the novel by Elmore Leonard, Out of Sight tells the story of the unlikely relationship that forms between a sexy US Marshal (Lopez) and a charming career criminal (Clooney).', 'Nishi leaves the police in the face of harrowing personal and professional difficulties. Spiraling into depression, he makes questionable decisions.', \"At Helge's 60th birthday party, some unpleasant family truths are revealed.\", 'Twenty-four contestants compete in an endurance/sleep deprivation contest in order to win a brand new Nissan Hardbody truck. The last person to remain standing with his or her hand on the truck wins. An absurd marketing gimmick at first glance, the contest proves to be much more...', 'Captivated by the lure of sudden wealth, the quiet rural lives of two brothers (Paxton, Thornton) erupt into conflicts of greed, paranoia and distrust when over four million dollars in cash is discovered at the remote site of a downed small airplane.  (Paramount Pictures)', \"A series of intertwining love stories, stories of connections missed and made between people, how people always struggle to make a connection, and to what degree they succeed or don't.  (Good Machine Releasing)\", 'A businessman kills his adulterous wife and is sent to prison. After the release, he opens a barbershop and meets new people, talking almost to no one except an eel he befriended while in prison.', 'The real-life story of Dublin folk hero and criminal Martin Cahill, who pulled off two daring robberies in Ireland, but attracted unwanted attention from the police, the IRA, the UVF and members of his own team.', 'A stuffy British novelist becomes infatuated with a cinematic teen idol and sets out to meet him.', \"A young boy's (Oliveira) mother is killed in front of Rio de Janeiro's Central Station. Homeless and with nowhere to turn, he is reluctantly befriended by a lonely and cynical woman (Montenegro). Resisting her initial impulse to make a quick profit off the child, she commits to returning him to his father in Brazil's remote Northeast.  The trip becomes a quest for their own identities: one boy's search for his father, and one woman's search for her heart. (Sony Pictures Classics)\", 'An Iranian man drives his truck in search of someone who will quietly bury him under a cherry tree after he commits suicide.', 'An emotionally shattering drama about a man (Nolte) who has taken several wrong turns in his life and who now finds himself on a collision course with his own destiny.  (Lions Gate Films)', 'The story of the brilliant concert cellist Jacqueline du Pre, seen from the perspectives of her sister Hilary and brother Piers.', 'The story of an ant named Flik who is searching for better ways to be a bug.', \"A horse meat butcher's life and mind begins to break down as he lashes out against various factions of society while attempting to reconnect with his estranged daughter.\", \"Though Victor and Thomas have lived their entire young lives in the same tiny town, they couldn't have less in common! But when Victor is urgently called away, it's Thomas who comes up with the money to pay for his trip. There's just one thing Victor has to do: take Thomas along for the ride! (Miramax)\", 'A rough, short-tempered patriarch of a working-class family sees his life and the relationships around him slowly unravel.', 'In the last months of the disco era, a popular dance club becomes the center of nightlife for a group of young people who recently arrived in Manhattan. [Castle Rock]', \"This historical drama chronicles the life of Queen Elizabeth I, from her days as an innocent young woman through her transformation into England's legendary &quot;Virgin Queen.&quot;  Formidable. Untouchable. Unbeatable... (Gramercy Pictures)\"]\n",
      "Fetched 24 matches from https://www.metacritic.com/browse/movie/all/all/1998/metascore/?page=1 (status: 200)\n"
     ]
    }
   ],
   "source": [
    "import certifi\n",
    "import urllib3\n",
    "import re\n",
    "# Construct an HTTP request pool to make multiple page fetches faster\n",
    "http = urllib3.PoolManager(ca_certs=certifi.where())\n",
    "\n",
    "# Loop through the years 1998 - 1999 and gather data from Metacritic.\n",
    "# Note that Python ranges stop *before* the final number.\n",
    "for year in range(1998, 1999):\n",
    "    print(f\"Collecting data for {year}...\")\n",
    "    url = f\"https://www.metacritic.com/browse/movie/all/all/{year}/metascore/?page=1\"\n",
    "    response = http.request('GET', url, headers={'User-Agent': 'Mozilla/5.0'})\n",
    "    page_content = str(response.data, \"utf-8\")\n",
    "\n",
    "    # Apply regular expression to extract relevant data\n",
    "    regular_expression = r'<div class=\"c-finderProductCard_description\"><span>(.*?)<\\/span>'\n",
    "\n",
    "   \n",
    "    matches = re.findall(regular_expression, page_content)\n",
    "    print (matches)\n",
    "    # Print the fetched number of matches\n",
    "    print(f\"Fetched {len(matches)} matches from {url} (status: {response.status})\")\n"
   ]
  },
  {
   "cell_type": "markdown",
   "metadata": {},
   "source": [
    "Get Metascore data from Metacritic website"
   ]
  },
  {
   "cell_type": "code",
   "execution_count": 15,
   "metadata": {},
   "outputs": [
    {
     "name": "stdout",
     "output_type": "stream",
     "text": [
      "Collecting data for 1998...\n",
      "['91', '90', '87', '87', '85', '84', '83', '82', '82', '81', '81', '81', '81', '81', '80', '80', '79', '78', '78', '77', '76', '76', '76', '75']\n",
      "Fetched 24 matches from https://www.metacritic.com/browse/movie/all/all/1998/metascore/?page=1 (status: 200)\n"
     ]
    }
   ],
   "source": [
    "import re\n",
    "# Construct an HTTP request pool to make multiple page fetches faster\n",
    "http = urllib3.PoolManager(ca_certs=certifi.where())\n",
    "\n",
    "# Loop through the years 1998 - 1999 and gather data from Metacritic.\n",
    "# Note that Python ranges stop *before* the final number.\n",
    "for year in range(1998, 1999):\n",
    "    print(f\"Collecting data for {year}...\")\n",
    "    url = f\"https://www.metacritic.com/browse/movie/all/all/{year}/metascore/?page=1\"\n",
    "    response = http.request('GET', url, headers={'User-Agent': 'Mozilla/5.0'})\n",
    "    page_content = str(response.data, \"utf-8\")\n",
    "\n",
    "    # Apply regular expression to extract relevant data\n",
    "    regular_expression = r'<div title=\"Metascore (\\d*)'\n",
    "\n",
    "   \n",
    "    matches = re.findall(regular_expression, page_content)\n",
    "    print (matches)\n",
    "    # Print the fetched number of matches\n",
    "    print(f\"Fetched {len(matches)} matches from {url} (status: {response.status})\")\n"
   ]
  },
  {
   "cell_type": "markdown",
   "metadata": {},
   "source": [
    "Insall pandas libarary "
   ]
  },
  {
   "cell_type": "code",
   "execution_count": 42,
   "metadata": {},
   "outputs": [
    {
     "name": "stdout",
     "output_type": "stream",
     "text": [
      "Collecting pandas\n",
      "  Downloading pandas-2.2.3-cp312-cp312-win_amd64.whl.metadata (19 kB)\n",
      "Collecting numpy>=1.26.0 (from pandas)\n",
      "  Downloading numpy-2.1.1-cp312-cp312-win_amd64.whl.metadata (59 kB)\n",
      "Requirement already satisfied: python-dateutil>=2.8.2 in c:\\users\\sadek\\appdata\\roaming\\python\\python312\\site-packages (from pandas) (2.9.0.post0)\n",
      "Collecting pytz>=2020.1 (from pandas)\n",
      "  Downloading pytz-2024.2-py2.py3-none-any.whl.metadata (22 kB)\n",
      "Collecting tzdata>=2022.7 (from pandas)\n",
      "  Downloading tzdata-2024.2-py2.py3-none-any.whl.metadata (1.4 kB)\n",
      "Requirement already satisfied: six>=1.5 in c:\\users\\sadek\\appdata\\roaming\\python\\python312\\site-packages (from python-dateutil>=2.8.2->pandas) (1.16.0)\n",
      "Downloading pandas-2.2.3-cp312-cp312-win_amd64.whl (11.5 MB)\n",
      "   ---------------------------------------- 0.0/11.5 MB ? eta -:--:--\n",
      "   ---------------------------------------- 0.0/11.5 MB ? eta -:--:--\n",
      "   -- ------------------------------------- 0.8/11.5 MB 4.2 MB/s eta 0:00:03\n",
      "   ------ --------------------------------- 1.8/11.5 MB 4.4 MB/s eta 0:00:03\n",
      "   --------- ------------------------------ 2.6/11.5 MB 4.3 MB/s eta 0:00:03\n",
      "   ------------ --------------------------- 3.7/11.5 MB 4.3 MB/s eta 0:00:02\n",
      "   --------------- ------------------------ 4.5/11.5 MB 4.3 MB/s eta 0:00:02\n",
      "   ------------------- -------------------- 5.5/11.5 MB 4.3 MB/s eta 0:00:02\n",
      "   ---------------------- ----------------- 6.6/11.5 MB 4.3 MB/s eta 0:00:02\n",
      "   ------------------------- -------------- 7.3/11.5 MB 4.4 MB/s eta 0:00:01\n",
      "   ----------------------------- ---------- 8.4/11.5 MB 4.3 MB/s eta 0:00:01\n",
      "   ------------------------------- -------- 9.2/11.5 MB 4.3 MB/s eta 0:00:01\n",
      "   ----------------------------------- ---- 10.2/11.5 MB 4.3 MB/s eta 0:00:01\n",
      "   -------------------------------------- - 11.0/11.5 MB 4.3 MB/s eta 0:00:01\n",
      "   ---------------------------------------- 11.5/11.5 MB 4.2 MB/s eta 0:00:00\n",
      "Downloading numpy-2.1.1-cp312-cp312-win_amd64.whl (12.6 MB)\n",
      "   ---------------------------------------- 0.0/12.6 MB ? eta -:--:--\n",
      "   - -------------------------------------- 0.5/12.6 MB 2.8 MB/s eta 0:00:05\n",
      "   ---- ----------------------------------- 1.3/12.6 MB 3.2 MB/s eta 0:00:04\n",
      "   ------ --------------------------------- 2.1/12.6 MB 3.6 MB/s eta 0:00:03\n",
      "   ---------- ----------------------------- 3.1/12.6 MB 3.8 MB/s eta 0:00:03\n",
      "   ------------ --------------------------- 3.9/12.6 MB 4.0 MB/s eta 0:00:03\n",
      "   --------------- ------------------------ 5.0/12.6 MB 4.0 MB/s eta 0:00:02\n",
      "   ------------------ --------------------- 5.8/12.6 MB 4.1 MB/s eta 0:00:02\n",
      "   --------------------- ------------------ 6.8/12.6 MB 4.2 MB/s eta 0:00:02\n",
      "   ------------------------- -------------- 7.9/12.6 MB 4.2 MB/s eta 0:00:02\n",
      "   --------------------------- ------------ 8.7/12.6 MB 4.2 MB/s eta 0:00:01\n",
      "   ------------------------------ --------- 9.7/12.6 MB 4.3 MB/s eta 0:00:01\n",
      "   --------------------------------- ------ 10.5/12.6 MB 4.3 MB/s eta 0:00:01\n",
      "   ------------------------------------ --- 11.5/12.6 MB 4.3 MB/s eta 0:00:01\n",
      "   ---------------------------------------  12.3/12.6 MB 4.3 MB/s eta 0:00:01\n",
      "   ---------------------------------------  12.3/12.6 MB 4.3 MB/s eta 0:00:01\n",
      "   ---------------------------------------- 12.6/12.6 MB 2.7 MB/s eta 0:00:00\n",
      "Downloading pytz-2024.2-py2.py3-none-any.whl (508 kB)\n",
      "Downloading tzdata-2024.2-py2.py3-none-any.whl (346 kB)\n",
      "Installing collected packages: pytz, tzdata, numpy, pandas\n",
      "Successfully installed numpy-2.1.1 pandas-2.2.3 pytz-2024.2 tzdata-2024.2\n",
      "Note: you may need to restart the kernel to use updated packages.\n"
     ]
    },
    {
     "name": "stderr",
     "output_type": "stream",
     "text": [
      "  WARNING: The scripts f2py.exe and numpy-config.exe are installed in 'c:\\Users\\sadek\\AppData\\Local\\Programs\\Python\\Python312\\Scripts' which is not on PATH.\n",
      "  Consider adding this directory to PATH or, if you prefer to suppress this warning, use --no-warn-script-location.\n"
     ]
    }
   ],
   "source": [
    "%pip install pandas"
   ]
  },
  {
   "cell_type": "markdown",
   "metadata": {},
   "source": [
    "Combine all codes in one code and get all movie data from website"
   ]
  },
  {
   "cell_type": "code",
   "execution_count": 24,
   "metadata": {},
   "outputs": [
    {
     "name": "stdout",
     "output_type": "stream",
     "text": [
      "Collecting data for 1998...\n",
      "Titles: ['Saving Private Ryan', 'The Truman Show', 'Shakespeare in Love', 'Rushmore', 'The Last Days', 'Out of Sight', 'Fireworks', 'The Celebration', 'Hands on a Hardbody: The Documentary', 'A Simple Plan', 'Happiness', 'The Eel', 'The General', 'Love and Death on Long Island', 'Central Station', 'Taste of Cherry', 'Affliction', 'Hilary and Jackie', \"A Bug's Life\", 'I Stand Alone', 'Smoke Signals', 'Nil by Mouth', 'The Last Days of Disco', 'Elizabeth']\n",
      "Release Date: ['Jul 24, 1998', 'Jun 5, 1998', 'Dec 11, 1998', 'Dec 11, 1998', 'Oct 23, 1998', 'Jun 26, 1998', 'Mar 20, 1998', 'Oct 9, 1998', 'Jul 10, 1998', 'Dec 11, 1998', 'Oct 16, 1998', 'Aug 21, 1998', 'Dec 18, 1998', 'Mar 6, 1998', 'Nov 20, 1998', 'Mar 20, 1998', 'Dec 30, 1998', 'Dec 30, 1998', 'Nov 25, 1998', 'Sep 27, 1998', 'Jun 26, 1998', 'Feb 6, 1998', 'May 29, 1998', 'Nov 6, 1998']\n",
      "Metascores: ['91', '90', '87', '87', '85', '84', '83', '82', '82', '81', '81', '81', '81', '81', '80', '80', '79', '78', '78', '77', '76', '76', '76', '75']\n",
      "Descriptions: ['During the WWII D-Day invasion, a squad of soldiers led by Captain John Miller (Tom Hanks) is sent into Normandy to find Private James Ryan (Matt Damon), and return him to his mother in America.  She has already lost three other sons in this war.', 'Twenty-nine years ago, a baby boy was adopted by the OmniCam Corporation to become the subject of the most popular television show of all time. His name is Truman Burbank.  (Paramount Pictures)', 'Shakespeare in Love is a romantic comedy for the 1990s set in the 1590s. It imaginatively unfolds the witty, sexy and timeless tale behind the creation of the greatest love story ever told.  (Miramax Films)', 'Max Fischer, a tenth grade scholarship student at Rushmore Academy, falls in love with Rosemary Cross, a widowed elementary school teacher, but his friendship with Herman Blume, an unhappy, wealthy industrialist, suffers when Blume falls for Miss Cross as well.', \"In late 1944, even as they faced imminent defeat, the Nazis expended enormous resources to kill or deport over 425,000 Jews during the &quot;cleansing&quot; of Hungary. This Oscar-winning documentary, executive produced by Steven Spielberg, focuses on the plight of five Hungarian Jews who survived imprisonment in Auschwitz. Though these survivors recount the horrors they witnessed and endured as a result of the Nazis' &quot;Final Solution,&quot; their individual triumphs are a testament to hope and humanity.\", 'Based on the novel by Elmore Leonard, Out of Sight tells the story of the unlikely relationship that forms between a sexy US Marshal (Lopez) and a charming career criminal (Clooney).', 'Nishi leaves the police in the face of harrowing personal and professional difficulties. Spiraling into depression, he makes questionable decisions.', \"At Helge's 60th birthday party, some unpleasant family truths are revealed.\", 'Twenty-four contestants compete in an endurance/sleep deprivation contest in order to win a brand new Nissan Hardbody truck. The last person to remain standing with his or her hand on the truck wins. An absurd marketing gimmick at first glance, the contest proves to be much more...', 'Captivated by the lure of sudden wealth, the quiet rural lives of two brothers (Paxton, Thornton) erupt into conflicts of greed, paranoia and distrust when over four million dollars in cash is discovered at the remote site of a downed small airplane.  (Paramount Pictures)', \"A series of intertwining love stories, stories of connections missed and made between people, how people always struggle to make a connection, and to what degree they succeed or don't.  (Good Machine Releasing)\", 'A businessman kills his adulterous wife and is sent to prison. After the release, he opens a barbershop and meets new people, talking almost to no one except an eel he befriended while in prison.', 'The real-life story of Dublin folk hero and criminal Martin Cahill, who pulled off two daring robberies in Ireland, but attracted unwanted attention from the police, the IRA, the UVF and members of his own team.', 'A stuffy British novelist becomes infatuated with a cinematic teen idol and sets out to meet him.', \"A young boy's (Oliveira) mother is killed in front of Rio de Janeiro's Central Station. Homeless and with nowhere to turn, he is reluctantly befriended by a lonely and cynical woman (Montenegro). Resisting her initial impulse to make a quick profit off the child, she commits to returning him to his father in Brazil's remote Northeast.  The trip becomes a quest for their own identities: one boy's search for his father, and one woman's search for her heart. (Sony Pictures Classics)\", 'An Iranian man drives his truck in search of someone who will quietly bury him under a cherry tree after he commits suicide.', 'An emotionally shattering drama about a man (Nolte) who has taken several wrong turns in his life and who now finds himself on a collision course with his own destiny.  (Lions Gate Films)', 'The story of the brilliant concert cellist Jacqueline du Pre, seen from the perspectives of her sister Hilary and brother Piers.', 'The story of an ant named Flik who is searching for better ways to be a bug.', \"A horse meat butcher's life and mind begins to break down as he lashes out against various factions of society while attempting to reconnect with his estranged daughter.\", \"Though Victor and Thomas have lived their entire young lives in the same tiny town, they couldn't have less in common! But when Victor is urgently called away, it's Thomas who comes up with the money to pay for his trip. There's just one thing Victor has to do: take Thomas along for the ride! (Miramax)\", 'A rough, short-tempered patriarch of a working-class family sees his life and the relationships around him slowly unravel.', 'In the last months of the disco era, a popular dance club becomes the center of nightlife for a group of young people who recently arrived in Manhattan. [Castle Rock]', \"This historical drama chronicles the life of Queen Elizabeth I, from her days as an innocent young woman through her transformation into England's legendary &quot;Virgin Queen.&quot;  Formidable. Untouchable. Unbeatable... (Gramercy Pictures)\"]\n"
     ]
    }
   ],
   "source": [
    "import certifi\n",
    "import urllib3\n",
    "import re\n",
    "\n",
    "# Construct an HTTP request pool to make multiple page fetches faster\n",
    "http = urllib3.PoolManager(ca_certs=certifi.where())\n",
    "\n",
    "# Loop through the years 1998 - 1999 and gather data from Metacritic.\n",
    "# Note that Python ranges stop *before* the final number.\n",
    "for year in range(1998, 1999):\n",
    "    print(f\"Collecting data for {year}...\")\n",
    "    url = f\"https://www.metacritic.com/browse/movie/all/all/{year}/metascore/?page=1\"\n",
    "    response = http.request('GET', url, headers={'User-Agent': 'Mozilla/5.0'})\n",
    "    page_content = str(response.data, \"utf-8\")\n",
    "\n",
    "    # Apply regular expression to extract various relevant data\n",
    "    # Extract data titles\n",
    "    regular_expression_title = r'<div data-title=\"(.*?)\\\"'\n",
    "    matches_title = re.findall(regular_expression_title, page_content)\n",
    "    print(f\"Titles: {matches_title}\")\n",
    "\n",
    "    # Extract date release\n",
    "    regular_expression_uppercase_text = r'<span class=\"u-text-uppercase\">\\s*(.*)'\n",
    "    matches_uppercase_text = re.findall(regular_expression_uppercase_text, page_content)\n",
    "    print(f\"Release Date: {matches_uppercase_text}\")\n",
    "\n",
    "    # Extract metascores\n",
    "    regular_expression_metascore = r'<div title=\"Metascore (\\d*)'\n",
    "    matches_metascore = re.findall(regular_expression_metascore, page_content)\n",
    "    print(f\"Metascores: {matches_metascore}\")\n",
    "\n",
    "    # Extract Movies descriptions\n",
    "    regular_expression_description = r'<div class=\"c-finderProductCard_description\"><span>(.*?)<\\/span>'\n",
    "    matches_description = re.findall(regular_expression_description, page_content)\n",
    "    print(f\"Descriptions: {matches_description}\")\n",
    "\n"
   ]
  },
  {
   "cell_type": "markdown",
   "metadata": {},
   "source": [
    "I used Pandas format to change data from reqular column to table format"
   ]
  },
  {
   "cell_type": "code",
   "execution_count": 35,
   "metadata": {},
   "outputs": [
    {
     "name": "stdout",
     "output_type": "stream",
     "text": [
      "Collecting data for 1998...\n",
      "                                   Title Metascore  \\\n",
      "0                    Saving Private Ryan        91   \n",
      "1                        The Truman Show        90   \n",
      "2                    Shakespeare in Love        87   \n",
      "3                               Rushmore        87   \n",
      "4                          The Last Days        85   \n",
      "5                           Out of Sight        84   \n",
      "6                              Fireworks        83   \n",
      "7                        The Celebration        82   \n",
      "8   Hands on a Hardbody: The Documentary        82   \n",
      "9                          A Simple Plan        81   \n",
      "10                             Happiness        81   \n",
      "11                               The Eel        81   \n",
      "12                           The General        81   \n",
      "13         Love and Death on Long Island        81   \n",
      "14                       Central Station        80   \n",
      "15                       Taste of Cherry        80   \n",
      "16                            Affliction        79   \n",
      "17                     Hilary and Jackie        78   \n",
      "18                          A Bug's Life        78   \n",
      "19                         I Stand Alone        77   \n",
      "20                         Smoke Signals        76   \n",
      "21                          Nil by Mouth        76   \n",
      "22                The Last Days of Disco        76   \n",
      "23                             Elizabeth        75   \n",
      "\n",
      "                                          Description  Release Date  \n",
      "0   During the WWII D-Day invasion, a squad of sol...  Jul 24, 1998  \n",
      "1   Twenty-nine years ago, a baby boy was adopted ...   Jun 5, 1998  \n",
      "2   Shakespeare in Love is a romantic comedy for t...  Dec 11, 1998  \n",
      "3   Max Fischer, a tenth grade scholarship student...  Dec 11, 1998  \n",
      "4   In late 1944, even as they faced imminent defe...  Oct 23, 1998  \n",
      "5   Based on the novel by Elmore Leonard, Out of S...  Jun 26, 1998  \n",
      "6   Nishi leaves the police in the face of harrowi...  Mar 20, 1998  \n",
      "7   At Helge's 60th birthday party, some unpleasan...   Oct 9, 1998  \n",
      "8   Twenty-four contestants compete in an enduranc...  Jul 10, 1998  \n",
      "9   Captivated by the lure of sudden wealth, the q...  Dec 11, 1998  \n",
      "10  A series of intertwining love stories, stories...  Oct 16, 1998  \n",
      "11  A businessman kills his adulterous wife and is...  Aug 21, 1998  \n",
      "12  The real-life story of Dublin folk hero and cr...  Dec 18, 1998  \n",
      "13  A stuffy British novelist becomes infatuated w...   Mar 6, 1998  \n",
      "14  A young boy's (Oliveira) mother is killed in f...  Nov 20, 1998  \n",
      "15  An Iranian man drives his truck in search of s...  Mar 20, 1998  \n",
      "16  An emotionally shattering drama about a man (N...  Dec 30, 1998  \n",
      "17  The story of the brilliant concert cellist Jac...  Dec 30, 1998  \n",
      "18  The story of an ant named Flik who is searchin...  Nov 25, 1998  \n",
      "19  A horse meat butcher's life and mind begins to...  Sep 27, 1998  \n",
      "20  Though Victor and Thomas have lived their enti...  Jun 26, 1998  \n",
      "21  A rough, short-tempered patriarch of a working...   Feb 6, 1998  \n",
      "22  In the last months of the disco era, a popular...  May 29, 1998  \n",
      "23  This historical drama chronicles the life of Q...   Nov 6, 1998  \n"
     ]
    }
   ],
   "source": [
    "import certifi\n",
    "import urllib3\n",
    "import re\n",
    "import pandas as pd\n",
    "from IPython.core.display import HTML\n",
    "\n",
    "\n",
    "# Construct an HTTP request pool to make multiple page fetches faster\n",
    "http = urllib3.PoolManager(ca_certs=certifi.where())\n",
    "\n",
    "# Create empty lists to store the collected data\n",
    "titles = []\n",
    "metascores = []\n",
    "descriptions = []\n",
    "uppercase_texts = []\n",
    "\n",
    "# Loop through the years 1998 - 1999 and gather data from Metacritic.\n",
    "# Note that Python ranges stop *before* the final number.\n",
    "for year in range(1998, 1999):\n",
    "    print(f\"Collecting data for {year}...\")\n",
    "    url = f\"https://www.metacritic.com/browse/movie/all/all/{year}/metascore/?page=1\"\n",
    "    response = http.request('GET', url, headers={'User-Agent': 'Mozilla/5.0'})\n",
    "    page_content = str(response.data, \"utf-8\")\n",
    "\n",
    "    # Apply regular expressions to extract various relevant data\n",
    "\n",
    "    # Extract data titles\n",
    "    regular_expression_title = r'<div data-title=\"(.*?)\\\"'\n",
    "    matches_title = re.findall(regular_expression_title, page_content)\n",
    "    titles.extend(matches_title)\n",
    "\n",
    "    # Extract metascores\n",
    "    regular_expression_metascore = r'<div title=\"Metascore (\\d*)'\n",
    "    matches_metascore = re.findall(regular_expression_metascore, page_content)\n",
    "    metascores.extend(matches_metascore)\n",
    "\n",
    "    # Extract product descriptions\n",
    "    regular_expression_description = r'<div class=\"c-finderProductCard_description\"><span>(.*?)<\\/span>'\n",
    "    matches_description = re.findall(regular_expression_description, page_content)\n",
    "    descriptions.extend(matches_description)\n",
    "\n",
    "    # Extract Release Date\n",
    "    regular_expression_uppercase_text = r'<span class=\"u-text-uppercase\">\\s*(.*)'\n",
    "    matches_uppercase_text = re.findall(regular_expression_uppercase_text, page_content)\n",
    "    uppercase_texts.extend(matches_uppercase_text)\n",
    "\n",
    "    # Store the year for each match (assuming all matches are for the same year)\n",
    "    count = max(len(matches_metascore), len(matches_description), len(matches_title), len(matches_uppercase_text))\n",
    "    years.extend([year] * count)\n",
    "\n",
    "# Create a Pandas DataFrame to organize the extracted data\n",
    "data = {\n",
    "    'Title': titles,\n",
    "    'Metascore': metascores,\n",
    "    'Description': descriptions,\n",
    "    'Release Date': uppercase_texts\n",
    "}\n",
    "\n",
    "df = pd.DataFrame(data)\n",
    "\n",
    "\n",
    "# Create a formatter to convert URLs into inline images\n",
    "def path_to_image_html(path: str):\n",
    "    return f\"<img src=\\\"{path}\\\" width=\\\"60\\\" />\"\n",
    "\n",
    "# Format the pandas dataframe to output using the formatter we created\n",
    "html = df.to_html(escape = False)\n",
    "HTML(html)\n",
    "\n",
    "# Display the DataFrame\n",
    "print(df)"
   ]
  }
 ],
 "metadata": {
  "kernelspec": {
   "display_name": "Python 3",
   "language": "python",
   "name": "python3"
  },
  "language_info": {
   "codemirror_mode": {
    "name": "ipython",
    "version": 3
   },
   "file_extension": ".py",
   "mimetype": "text/x-python",
   "name": "python",
   "nbconvert_exporter": "python",
   "pygments_lexer": "ipython3",
   "version": "3.12.6"
  }
 },
 "nbformat": 4,
 "nbformat_minor": 2
}
